{
 "cells": [
  {
   "cell_type": "code",
   "execution_count": 1,
   "metadata": {},
   "outputs": [],
   "source": [
    "import pandas as pd\n",
    "import numpy as np\n",
    "import matplotlib.pyplot as plt\n",
    "import pickle\n",
    "import sys\n",
    "sys.path.append('../')\n",
    "from cython_folder.TTM_test.ttm_test import TTM\n",
    "from cython_folder.CTTM_test.cttm_test import CTTM\n",
    "from cython_folder.SCTTM_test.scttm_test import SCTTM"
   ]
  },
  {
   "cell_type": "code",
   "execution_count": 2,
   "metadata": {},
   "outputs": [],
   "source": [
    "N_tdv = pd.read_pickle('../pickle_folder/q30/questions_bow_arr.pkl')\n",
    "ttm_eta_tk = pd.read_pickle('../pickle_folder/ttm_train/q30_ttm_eta_tk.pkl')\n",
    "#cttm_eta_tk = pd.read_pickle('../pickle_folder/cttm_train/q30_cttm_eta_tk.pkl')\n",
    "scttm_eta_tk = pd.read_pickle('../pickle_folder/scttm_train_af/q30_scttm_eta_tk.pkl')\n",
    "\n",
    "scttm_sigma_t = pd.read_pickle('../pickle_folder/scttm_train_af/q30_scttm_sigma_t.pkl')\n",
    "\n",
    "Sex_ds = pd.read_pickle('../pickle_folder/auxiliary/children_sex_count.pkl')\n",
    "Con_ds = pd.read_pickle('../pickle_folder/auxiliary/additional_info.pkl')\n",
    "Q_tds = pd.read_pickle('../pickle_folder/auxiliary/questions_meta_arr.pkl')\n",
    "Q_td = Q_tds[:, :, 2].astype('uint32')\n",
    "Age_td = Q_tds[:, :, 1]\n",
    "#for t in range(Age_td.shape[0]):\n",
    "#    Age_td[t] = np.log1p(Age_td[t] - np.min(Age_td[t]))"
   ]
  },
  {
   "cell_type": "code",
   "execution_count": 3,
   "metadata": {},
   "outputs": [
    {
     "name": "stderr",
     "output_type": "stream",
     "text": [
      "100%|██████████| 100/100 [00:10<00:00,  9.10it/s]\n"
     ]
    }
   ],
   "source": [
    "# テスト\n",
    "# k: トピック数, L: 依存時間数, N: 時刻毎のBOW行列\n",
    "ttm_test = TTM(K=25, L=1, N_tdv=N_tdv[0:1, 550:, :], Age_td=Age_td[0:1, 550:], eta_tk=ttm_eta_tk)\n",
    "# ttm_estimateの引数: 反復数\n",
    "ttm_test.ttm_estimate(100)"
   ]
  },
  {
   "cell_type": "code",
   "execution_count": 4,
   "metadata": {},
   "outputs": [
    {
     "name": "stdout",
     "output_type": "stream",
     "text": [
      "[777.60462305]\n",
      "[-0.14482373]\n"
     ]
    }
   ],
   "source": [
    "print(np.array(ttm_test.mse_t))\n",
    "print(np.array(ttm_test.r_score_t))"
   ]
  },
  {
   "cell_type": "code",
   "execution_count": 4,
   "metadata": {},
   "outputs": [],
   "source": [
    "#pd.to_pickle(np.array(ttm_test.z_tdk_var[0]), '../pickle_folder/ttm_test/q30_ttm_z_tdk_var.pkl')"
   ]
  },
  {
   "cell_type": "code",
   "execution_count": 14,
   "metadata": {},
   "outputs": [
    {
     "data": {
      "image/png": "[encoded data removed]",
      "text/plain": [
       "<Figure size 432x288 with 1 Axes>"
      ]
     },
     "metadata": {
      "needs_background": "light"
     },
     "output_type": "display_data"
    }
   ],
   "source": [
    "plt.plot(range(len(ttm_test.mse_t)), ttm_test.mse_t)\n",
    "plt.ylabel(\"mse\")\n",
    "plt.xlabel(\"time\")\n",
    "#plt.savefig(\"../images/mse_time_q30_scttm.png\")\n",
    "plt.show()"
   ]
  },
  {
   "cell_type": "code",
   "execution_count": 10,
   "metadata": {},
   "outputs": [],
   "source": [
    "# テストデータ保存\n",
    "\"\"\"\n",
    "pd.to_pickle(np.array(ttm_test.theta_tdk), '../pickle_folder/ttm_test/q30_theta.pkl')\n",
    "pd.to_pickle(np.array(ttm_test.phi_tkv), '../pickle_folder/ttm_test/q30_phi.pkl')\n",
    "pd.to_pickle(np.array(ttm_test.alpha_tdl), '../pickle_folder/ttm_test/q30_alpha.pkl')\n",
    "pd.to_pickle(np.array(ttm_test.beta_tkl), '../pickle_folder/ttm_test/q30_beta.pkl')\n",
    "pd.to_pickle(np.array(ttm_test.r_score_t), '../pickle_folder/ttm_test/q30_ttm_r_score_t.pkl')\n",
    "pd.to_pickle(np.array(ttm_test.mse_t), '../pickle_folder/ttm_test/q30_ttm_mse_t.pkl')\n",
    "pd.to_pickle(np.array(ttm_test.r_score), '../pickle_folder/ttm_test/q30_ttm_r_score.pkl')\n",
    "pd.to_pickle(np.array(ttm_test.mse_list), '../pickle_folder/ttm_test/q30_ttm_mse_list.pkl')\n",
    "pd.to_pickle(np.array(ttm_test.eta_tk), '../pickle_folder/ttm_test/q30_ttm_eta_tk.pkl')"
   ]
  },
  {
   "cell_type": "code",
   "execution_count": 6,
   "metadata": {},
   "outputs": [
    {
     "name": "stderr",
     "output_type": "stream",
     "text": [
      "100%|██████████| 100/100 [00:21<00:00,  4.70it/s]\n"
     ]
    }
   ],
   "source": [
    "# テスト\n",
    "# k: トピック数, L: 依存時間数, N: 時刻毎のBOW行列\n",
    "cttm = CTTM(K=20, L=1, N_tdv=N_tdv[0:1, 550:, :], Sex_ds=Sex_ds[550:, :], Con_ds=Con_ds[550:,\n",
    "            :], Q_td=Q_td[0:1, 550:], Age_td=Age_td[0:1, 550:], eta_tk=cttm_eta_tk)\n",
    "# ttm_estimateの引数: 反復数\n",
    "cttm.cttm_estimate(100)"
   ]
  },
  {
   "cell_type": "code",
   "execution_count": 12,
   "metadata": {},
   "outputs": [],
   "source": [
    "#pd.to_pickle(np.array(cttm.z_tdk_var[0]), '../pickle_folder/cttm_test/q30_cttm_z_tdk_var.pkl')"
   ]
  },
  {
   "cell_type": "code",
   "execution_count": 16,
   "metadata": {},
   "outputs": [
    {
     "data": {
      "image/png": "[encoded data removed]",
      "text/plain": [
       "<Figure size 432x288 with 1 Axes>"
      ]
     },
     "metadata": {
      "needs_background": "light"
     },
     "output_type": "display_data"
    }
   ],
   "source": [
    "plt.plot(range(len(cttm.mse_t)), cttm.mse_t)\n",
    "plt.ylabel(\"mse\")\n",
    "plt.xlabel(\"time\")\n",
    "#plt.savefig(\"../images/mse_time_q30_scttm.png\")\n",
    "plt.show()"
   ]
  },
  {
   "cell_type": "code",
   "execution_count": 8,
   "metadata": {},
   "outputs": [],
   "source": [
    "# テストデータ保存\n",
    "\"\"\"\n",
    "pd.to_pickle(np.array(cttm.theta_tdk), '../pickle_folder/cttm_test/q30_cttm_theta.pkl')\n",
    "pd.to_pickle(np.array(cttm.phi_tkv), '../pickle_folder/cttm_test/q30_cttm_phi.pkl')\n",
    "pd.to_pickle(np.array(cttm.psi_sex_tks), '../pickle_folder/cttm_test/q30_cttm_psi_sex.pkl')\n",
    "pd.to_pickle(np.array(cttm.psi_chi_tks), '../pickle_folder/cttm_test/q30_cttm_psi_chi.pkl')\n",
    "pd.to_pickle(np.array(cttm.psi_gen_tks), '../pickle_folder/cttm_test/q30_cttm_psi_gen.pkl')\n",
    "pd.to_pickle(np.array(cttm.psi_pre_tks), '../pickle_folder/cttm_test/q30_cttm_psi_pre.pkl')\n",
    "pd.to_pickle(np.array(cttm.psi_q_tks), '../pickle_folder/cttm_test/q30_cttm_psi_q.pkl')\n",
    "pd.to_pickle(np.array(cttm.alpha_tdl), '../pickle_folder/cttm_test/q30_cttm_alpha.pkl')\n",
    "pd.to_pickle(np.array(cttm.beta_tkl), '../pickle_folder/cttm_test/q30_cttm_beta.pkl')\n",
    "pd.to_pickle(np.array(cttm.gamma_sex_t), '../pickle_folder/cttm_test/q30_cttm_gamma_sex_t.pkl')\n",
    "pd.to_pickle(np.array(cttm.gamma_chi_t), '../pickle_folder/cttm_test/q30_cttm_gamma_chi_t.pkl')\n",
    "pd.to_pickle(np.array(cttm.gamma_gen_t), '../pickle_folder/cttm_test/q30_cttm_gamma_gen_t.pkl')\n",
    "pd.to_pickle(np.array(cttm.gamma_pre_t), '../pickle_folder/cttm_test/q30_cttm_gamma_pre_t.pkl')\n",
    "pd.to_pickle(np.array(cttm.gamma_q_t), '../pickle_folder/cttm_test/q30_cttm_gamma_q_t.pkl')\n",
    "pd.to_pickle(np.array(cttm.eta_tk), '../pickle_folder/cttm_test/q30_cttm_eta_tk.pkl')\n",
    "pd.to_pickle(np.array(cttm.r_score_t), '../pickle_folder/cttm_test/q30_cttm_r_score_t.pkl')\n",
    "pd.to_pickle(np.array(cttm.mse_t), '../pickle_folder/cttm_test/q30_cttm_mse_t.pkl')\n",
    "pd.to_pickle(np.array(cttm.r_score), '../pickle_folder/cttm_test/q30_cttm_r_score.pkl')\n",
    "pd.to_pickle(np.array(cttm.mse_list), '../pickle_folder/cttm_test/q30_cttm_mse_list.pkl')"
   ]
  },
  {
   "cell_type": "code",
   "execution_count": 3,
   "metadata": {},
   "outputs": [
    {
     "name": "stderr",
     "output_type": "stream",
     "text": [
      "100%|██████████| 100/100 [00:42<00:00,  2.34it/s]\n"
     ]
    }
   ],
   "source": [
    "# テスト\n",
    "# k: トピック数, L: 依存時間数, N: 時刻毎のBOW行列\n",
    "scttm = SCTTM(K=25, L=1, N_tdv=N_tdv[0:1, 550:, :], Sex_ds=Sex_ds[550:, :], Con_ds=Con_ds[550:,\n",
    "            :], Q_td=Q_td[0:1, 550:], Age_td=Age_td[0:1, 550:], eta_tk=scttm_eta_tk, sigma_t=scttm_sigma_t)\n",
    "# ttm_estimateの引数: 反復数\n",
    "scttm.scttm_estimate(100)"
   ]
  },
  {
   "cell_type": "code",
   "execution_count": 4,
   "metadata": {},
   "outputs": [
    {
     "name": "stdout",
     "output_type": "stream",
     "text": [
      "[69.10427461]\n",
      "[0.89826165]\n"
     ]
    }
   ],
   "source": [
    "print(np.array(scttm.mse_t))\n",
    "print(np.array(scttm.r_score_t))"
   ]
  },
  {
   "cell_type": "code",
   "execution_count": 5,
   "metadata": {},
   "outputs": [],
   "source": [
    "# テストデータ保存\n",
    "\"\"\"\n",
    "pd.to_pickle(np.array(scttm.theta_tdk), '../pickle_folder/scttm_test/q30_scttm_theta.pkl')\n",
    "pd.to_pickle(np.array(scttm.phi_tkv), '../pickle_folder/scttm_test/q30_scttm_phi.pkl')\n",
    "pd.to_pickle(np.array(scttm.psi_sex_tks), '../pickle_folder/scttm_test/q30_scttm_psi_sex.pkl')\n",
    "pd.to_pickle(np.array(scttm.psi_chi_tks), '../pickle_folder/scttm_test/q30_scttm_psi_chi.pkl')\n",
    "pd.to_pickle(np.array(scttm.psi_gen_tks), '../pickle_folder/scttm_test/q30_scttm_psi_gen.pkl')\n",
    "pd.to_pickle(np.array(scttm.psi_pre_tks), '../pickle_folder/scttm_test/q30_scttm_psi_pre.pkl')\n",
    "pd.to_pickle(np.array(scttm.psi_q_tks), '../pickle_folder/scttm_test/q30_scttm_psi_q.pkl')\n",
    "pd.to_pickle(np.array(scttm.alpha_tdl), '../pickle_folder/scttm_test/q30_scttm_alpha.pkl')\n",
    "pd.to_pickle(np.array(scttm.beta_tkl), '../pickle_folder/scttm_test/q30_scttm_beta.pkl')\n",
    "pd.to_pickle(np.array(scttm.gamma_sex_t), '../pickle_folder/scttm_test/q30_scttm_gamma_sex_t.pkl')\n",
    "pd.to_pickle(np.array(scttm.gamma_chi_t), '../pickle_folder/scttm_test/q30_scttm_gamma_chi_t.pkl')\n",
    "pd.to_pickle(np.array(scttm.gamma_gen_t), '../pickle_folder/scttm_test/q30_scttm_gamma_gen_t.pkl')\n",
    "pd.to_pickle(np.array(scttm.gamma_pre_t), '../pickle_folder/scttm_test/q30_scttm_gamma_pre_t.pkl')\n",
    "pd.to_pickle(np.array(scttm.gamma_q_t), '../pickle_folder/scttm_test/q30_scttm_gamma_q_t.pkl')\n",
    "pd.to_pickle(np.array(scttm.eta_tk), '../pickle_folder/scttm_test/q30_scttm_eta_tk.pkl')\n",
    "pd.to_pickle(np.array(scttm.r_score_t), '../pickle_folder/scttm_test/q30_scttm_r_score_t.pkl')\n",
    "pd.to_pickle(np.array(scttm.mse_t), '../pickle_folder/scttm_test/q30_scttm_mse_t.pkl')\n",
    "pd.to_pickle(np.array(scttm.r_score), '../pickle_folder/scttm_test/q30_scttm_r_score.pkl')\n",
    "pd.to_pickle(np.array(scttm.mse_list), '../pickle_folder/scttm_test/q30_scttm_mse_list.pkl')"
   ]
  }
 ],
 "metadata": {
  "interpreter": {
   "hash": "aee8b7b246df8f9039afb4144a1f6fd8d2ca17a180786b69acc140d282b71a49"
  },
  "kernelspec": {
   "display_name": "Python 3.9.2 64-bit",
   "language": "python",
   "name": "python3"
  },
  "language_info": {
   "codemirror_mode": {
    "name": "ipython",
    "version": 3
   },
   "file_extension": ".py",
   "mimetype": "text/x-python",
   "name": "python",
   "nbconvert_exporter": "python",
   "pygments_lexer": "ipython3",
   "version": "3.9.2"
  },
  "orig_nbformat": 4
 },
 "nbformat": 4,
 "nbformat_minor": 2
}
