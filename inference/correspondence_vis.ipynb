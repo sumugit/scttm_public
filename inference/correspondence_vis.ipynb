{
 "cells": [
  {
   "cell_type": "code",
   "execution_count": 1,
   "metadata": {},
   "outputs": [],
   "source": [
    "import pandas as pd\n",
    "import numpy as np\n",
    "import matplotlib.pyplot as plt\n",
    "import pickle\n",
    "import sys\n",
    "import japanize_matplotlib\n",
    "from scipy import stats\n",
    "sys.path.append('../')\n",
    "\n",
    "# データロード\n",
    "Sex_ds = pd.read_pickle('../pickle_folder/paper/children_sex_count_paper.pkl')\n",
    "# 子供の数, 世代 id, 都道府県 id\n",
    "Con_ds = pd.read_pickle('../pickle_folder/paper/additional_info_paper.pkl')\n",
    "Q_tds = pd.read_pickle('../pickle_folder/paper/questions_meta_arr_paper.pkl')\n",
    "Q_td = Q_tds[:,:,2].astype('uint32')\n",
    "\n",
    "# パラメータロード (最初の時刻のみ)\n",
    "psi_chi = pd.read_pickle('../pickle_folder/paper/all/scttm_psi_chi.pkl')[0]\n",
    "psi_gen = pd.read_pickle('../pickle_folder/paper/all/scttm_psi_gen.pkl')[0]\n",
    "psi_pre = pd.read_pickle('../pickle_folder/paper/all/scttm_psi_pre.pkl')[0]\n",
    "psi_sex = pd.read_pickle('../pickle_folder/paper/all/scttm_psi_sex.pkl')[0]\n",
    "# 時刻によって変化\n",
    "psi_q = pd.read_pickle('../pickle_folder/paper/all/scttm_psi_q.pkl')[0]\n",
    "theta = pd.read_pickle('../pickle_folder/paper/all/scttm_theta.pkl')[0]"
   ]
  },
  {
   "cell_type": "code",
   "execution_count": 96,
   "metadata": {},
   "outputs": [
    {
     "name": "stdout",
     "output_type": "stream",
     "text": [
      "トピック0: Power_divergenceResult(statistic=4.568627450980392, pvalue=0.6002027786134714)\n",
      "トピック1: Power_divergenceResult(statistic=36.03603603603604, pvalue=2.7125253760859645e-06)\n",
      "トピック2: Power_divergenceResult(statistic=3.8153846153846156, pvalue=0.7016432415759717)\n",
      "トピック3: Power_divergenceResult(statistic=13.734848484848484, pvalue=0.03274244391588164)\n",
      "トピック4: Power_divergenceResult(statistic=7.991379310344827, pvalue=0.23873556012769084)\n",
      "トピック5: Power_divergenceResult(statistic=4.286721504112808, pvalue=0.6379369599397671)\n",
      "トピック6: Power_divergenceResult(statistic=2.3625, pvalue=0.8835275825669472)\n",
      "トピック7: Power_divergenceResult(statistic=1.3833333333333333, pvalue=0.9668644248690536)\n",
      "トピック8: Power_divergenceResult(statistic=0.0, pvalue=1.0)\n",
      "トピック9: Power_divergenceResult(statistic=5.866666666666667, pvalue=0.4382908669334289)\n",
      "トピック10: Power_divergenceResult(statistic=0.6352941176470588, pvalue=0.9957824995721198)\n",
      "トピック11: Power_divergenceResult(statistic=1.8650793650793651, pvalue=0.9316794477256075)\n",
      "トピック12: Power_divergenceResult(statistic=2.3625, pvalue=0.8835275825669472)\n",
      "トピック13: Power_divergenceResult(statistic=26.08695652173913, pvalue=0.00021448912066500232)\n",
      "トピック15: Power_divergenceResult(statistic=1.7089783281733746, pvalue=0.944426022237456)\n",
      "トピック16: Power_divergenceResult(statistic=0.5555555555555556, pvalue=0.9970953001892165)\n",
      "トピック17: Power_divergenceResult(statistic=0.25882352941176473, pvalue=0.9996720895388075)\n",
      "トピック18: Power_divergenceResult(statistic=5.5, pvalue=0.4814567047130165)\n",
      "トピック21: Power_divergenceResult(statistic=0.6, pvalue=0.9964005068169105)\n",
      "トピック22: Power_divergenceResult(statistic=1.0736842105263158, pvalue=0.9826641682056985)\n",
      "トピック23: Power_divergenceResult(statistic=5.481818181818182, pvalue=0.48365694336027876)\n",
      "トピック24: Power_divergenceResult(statistic=5.633333333333333, pvalue=0.46549025033624314)\n"
     ]
    }
   ],
   "source": [
    "# 子供の数\n",
    "for k in range(25):\n",
    "    num_chi = np.zeros(7)\n",
    "    for d in range(theta.shape[0]):\n",
    "        if np.argmax(theta[d]) == k:\n",
    "            num_chi[Con_ds[d][0]] += 1\n",
    "            \n",
    "    observed = num_chi\n",
    "    expected = (sum(observed) * psi_chi[k])\n",
    "\n",
    "    observed2 = [n+1 for n in observed]\n",
    "    expected2 = [round(n)+1 for n in expected]\n",
    "    try:\n",
    "        result = stats.chisquare(observed2, expected2)\n",
    "    except:\n",
    "        continue\n",
    "    print(f'トピック{k}: {result}')"
   ]
  },
  {
   "cell_type": "code",
   "execution_count": 87,
   "metadata": {},
   "outputs": [
    {
     "data": {
      "image/png": "[encoded data removed]",
      "text/plain": [
       "<Figure size 288x216 with 1 Axes>"
      ]
     },
     "metadata": {
      "needs_background": "light"
     },
     "output_type": "display_data"
    }
   ],
   "source": [
    "# 子供の数 - カテゴリ分布\n",
    "plt.figure(figsize=(4, 3))\n",
    "plt.bar(range(7), psi_chi[2], alpha=0.5)\n",
    "plt.bar(range(7), num_chi, alpha=0.5)\n",
    "plt.ylim(0.0, 1.05)\n",
    "plt.show()"
   ]
  },
  {
   "cell_type": "code",
   "execution_count": 103,
   "metadata": {},
   "outputs": [
    {
     "name": "stdout",
     "output_type": "stream",
     "text": [
      "トピック0: Power_divergenceResult(statistic=5.465909090909091, pvalue=0.6032990033555372)\n",
      "トピック3: Power_divergenceResult(statistic=11.555555555555555, pvalue=0.11615490110924333)\n",
      "トピック6: Power_divergenceResult(statistic=2.625, pvalue=0.9173940876494657)\n",
      "トピック8: Power_divergenceResult(statistic=0.0, pvalue=1.0)\n",
      "トピック9: Power_divergenceResult(statistic=2.43015873015873, pvalue=0.9322637268593867)\n",
      "トピック11: Power_divergenceResult(statistic=6.549019607843137, pvalue=0.4772934776311778)\n",
      "トピック12: Power_divergenceResult(statistic=1.2222222222222223, pvalue=0.9904062027396278)\n",
      "トピック13: Power_divergenceResult(statistic=3.7954545454545454, pvalue=0.8030126446492339)\n",
      "トピック14: Power_divergenceResult(statistic=5.211956521739131, pvalue=0.6341146890261238)\n",
      "トピック15: Power_divergenceResult(statistic=1.4047619047619047, pvalue=0.9854249653936282)\n",
      "トピック16: Power_divergenceResult(statistic=4.265350877192982, pvalue=0.748757105143018)\n",
      "トピック18: Power_divergenceResult(statistic=6.273684210526316, pvalue=0.5081808300113261)\n",
      "トピック19: Power_divergenceResult(statistic=9.723333333333333, pvalue=0.20480151497668353)\n",
      "トピック23: Power_divergenceResult(statistic=1.4444444444444444, pvalue=0.9841709174015967)\n",
      "トピック24: Power_divergenceResult(statistic=1.9678571428571427, pvalue=0.9615979389145419)\n"
     ]
    }
   ],
   "source": [
    "# 世代\n",
    "for k in range(25):\n",
    "    num_gen = np.zeros(8)\n",
    "    for d in range(theta.shape[0]):\n",
    "        if np.argmax(theta[d]) == k:\n",
    "            num_gen[Con_ds[d][1]] += 1\n",
    "            \n",
    "    observed = num_gen\n",
    "    expected = (sum(observed) * psi_gen[k])\n",
    "\n",
    "    observed2 = [n+1 for n in observed]\n",
    "    expected2 = [round(n)+1 for n in expected]\n",
    "    try:\n",
    "        result = stats.chisquare(observed2, expected2)\n",
    "    except:\n",
    "        continue\n",
    "    print(f'トピック{k}: {result}')"
   ]
  },
  {
   "cell_type": "code",
   "execution_count": 9,
   "metadata": {},
   "outputs": [
    {
     "name": "stdout",
     "output_type": "stream",
     "text": [
      "トピック2: Power_divergenceResult(statistic=14.157142857142857, pvalue=0.9999991196363759)\n",
      "トピック3: Power_divergenceResult(statistic=13.688095238095238, pvalue=0.9999995021851912)\n",
      "トピック5: Power_divergenceResult(statistic=53.53333333333333, pvalue=0.23791724492025323)\n",
      "トピック7: Power_divergenceResult(statistic=13.133333333333333, pvalue=0.9999997552275071)\n",
      "トピック8: Power_divergenceResult(statistic=0.0, pvalue=1.0)\n",
      "トピック10: Power_divergenceResult(statistic=8.083333333333332, pvalue=0.9999999999700627)\n",
      "トピック16: Power_divergenceResult(statistic=15.5, pvalue=0.9999960711880117)\n",
      "トピック18: Power_divergenceResult(statistic=11.958333333333332, pvalue=0.9999999528128718)\n",
      "トピック19: Power_divergenceResult(statistic=11.266666666666666, pvalue=0.9999999838507853)\n",
      "トピック20: Power_divergenceResult(statistic=10.416666666666666, pvalue=0.999999996174024)\n"
     ]
    }
   ],
   "source": [
    "# 都道府県\n",
    "for k in range(25):\n",
    "    num_pre = np.zeros(48)\n",
    "    for d in range(theta.shape[0]):\n",
    "        if np.argmax(theta[d]) == k:\n",
    "            num_pre[Con_ds[d][2]] += 1\n",
    "            \n",
    "    observed = num_pre\n",
    "    expected = (sum(observed) * psi_pre[k])\n",
    "\n",
    "    observed2 = [n+1 for n in observed]\n",
    "    expected2 = [round(n)+1 for n in expected]\n",
    "    try:\n",
    "        result = stats.chisquare(observed2, expected2)\n",
    "    except:\n",
    "        # 四捨五入で数が合わないとエラー\n",
    "        continue\n",
    "    print(f'トピック{k}: {result}')"
   ]
  },
  {
   "cell_type": "code",
   "execution_count": 124,
   "metadata": {},
   "outputs": [
    {
     "name": "stdout",
     "output_type": "stream",
     "text": [
      "トピック0: Power_divergenceResult(statistic=15.063247863247863, pvalue=0.0005358673378044014)\n",
      "トピック1: Power_divergenceResult(statistic=3.9789473684210526, pvalue=0.13676738934249105)\n",
      "トピック2: Power_divergenceResult(statistic=5.625, pvalue=0.060054667895307945)\n",
      "トピック3: Power_divergenceResult(statistic=123.75, pvalue=1.3428544176905862e-27)\n",
      "トピック5: Power_divergenceResult(statistic=4.508460634547591, pvalue=0.10495429416345455)\n",
      "トピック8: Power_divergenceResult(statistic=0.0, pvalue=1.0)\n",
      "トピック9: Power_divergenceResult(statistic=5.564482029598309, pvalue=0.06189963383116462)\n",
      "トピック10: Power_divergenceResult(statistic=4.497354497354498, pvalue=0.10553873377322617)\n",
      "トピック11: Power_divergenceResult(statistic=12.579545454545455, pvalue=0.001855181531112548)\n",
      "トピック13: Power_divergenceResult(statistic=0.8080808080808081, pvalue=0.6676171462938304)\n",
      "トピック14: Power_divergenceResult(statistic=31.8, pvalue=1.2437060236028703e-07)\n",
      "トピック15: Power_divergenceResult(statistic=7.926739926739927, pvalue=0.018998980419826325)\n",
      "トピック20: Power_divergenceResult(statistic=3.1318785578747628, pvalue=0.2088917134109985)\n",
      "トピック21: Power_divergenceResult(statistic=2.2509578544061304, pvalue=0.32449701968722)\n",
      "トピック22: Power_divergenceResult(statistic=14.953886693017129, pvalue=0.0005659847936252039)\n",
      "トピック23: Power_divergenceResult(statistic=3.7404540763673895, pvalue=0.15408867383084304)\n",
      "トピック24: Power_divergenceResult(statistic=13.059523809523808, pvalue=0.0014593532734903706)\n"
     ]
    }
   ],
   "source": [
    "# 性別\n",
    "for k in range(25):\n",
    "    num_sex = np.zeros(3)\n",
    "    for d in range(theta.shape[0]):\n",
    "        if np.argmax(theta[d]) == k:\n",
    "            num_sex[0] += Sex_ds[d][0]\n",
    "            num_sex[1] += Sex_ds[d][1]\n",
    "            num_sex[2] += Sex_ds[d][2]\n",
    "            \n",
    "    observed = num_sex\n",
    "    expected = (sum(observed) * psi_sex[k])\n",
    "\n",
    "    observed2 = [n+1 for n in observed]\n",
    "    expected2 = [round(n)+1 for n in expected]\n",
    "    try:\n",
    "        result = stats.chisquare(observed2, expected2)\n",
    "    except:\n",
    "        continue\n",
    "    print(f'トピック{k}: {result}')"
   ]
  },
  {
   "cell_type": "code",
   "execution_count": 136,
   "metadata": {},
   "outputs": [
    {
     "name": "stdout",
     "output_type": "stream",
     "text": [
      "トピック1: Power_divergenceResult(statistic=8.143939393939394, pvalue=0.9178823180020084)\n",
      "トピック3: Power_divergenceResult(statistic=20.32142857142857, pvalue=0.15994595945381826)\n",
      "トピック4: Power_divergenceResult(statistic=8.666666666666668, pvalue=0.8942916352645011)\n",
      "トピック7: Power_divergenceResult(statistic=17.96153846153846, pvalue=0.26469300134934226)\n",
      "トピック10: Power_divergenceResult(statistic=11.313492063492063, pvalue=0.7300714098317564)\n",
      "トピック11: Power_divergenceResult(statistic=13.023809523809524, pvalue=0.6004588236986841)\n",
      "トピック12: Power_divergenceResult(statistic=3.1911764705882355, pvalue=0.9994113992154875)\n",
      "トピック14: Power_divergenceResult(statistic=6.746642246642246, pvalue=0.9643025971335563)\n",
      "トピック20: Power_divergenceResult(statistic=8.064102564102564, pvalue=0.9211870209992238)\n",
      "トピック23: Power_divergenceResult(statistic=18.742016806722688, pvalue=0.22566336511559834)\n"
     ]
    }
   ],
   "source": [
    "# 質問カテゴリ\n",
    "for k in range(25):\n",
    "    num_q = np.zeros(16)\n",
    "    for d in range(theta.shape[0]):\n",
    "        if np.argmax(theta[d]) == k:\n",
    "            # 時刻によって変化\n",
    "            num_q[Q_td[0, d]] += 1\n",
    "            \n",
    "    observed = num_q\n",
    "    expected = (sum(observed) * psi_q[k])\n",
    "\n",
    "    observed2 = [n+1 for n in observed]\n",
    "    expected2 = [round(n)+1 for n in expected]\n",
    "    try:\n",
    "        result = stats.chisquare(observed2, expected2)\n",
    "    except:\n",
    "        continue\n",
    "    print(f'トピック{k}: {result}')"
   ]
  },
  {
   "cell_type": "code",
   "execution_count": 6,
   "metadata": {},
   "outputs": [
    {
     "name": "stdout",
     "output_type": "stream",
     "text": [
      "トピック0: KstestResult(statistic=0.42857142857142855, pvalue=0.5751748251748252)\n",
      "トピック1: KstestResult(statistic=0.5714285714285714, pvalue=0.21212121212121213)\n",
      "トピック2: KstestResult(statistic=0.7142857142857143, pvalue=0.05303030303030303)\n",
      "トピック3: KstestResult(statistic=0.7142857142857143, pvalue=0.05303030303030303)\n",
      "トピック4: KstestResult(statistic=0.5714285714285714, pvalue=0.21212121212121213)\n",
      "トピック5: KstestResult(statistic=0.5714285714285714, pvalue=0.21212121212121213)\n",
      "トピック6: KstestResult(statistic=0.5714285714285714, pvalue=0.21212121212121213)\n",
      "トピック7: KstestResult(statistic=0.5714285714285714, pvalue=0.21212121212121213)\n",
      "トピック8: KstestResult(statistic=0.0, pvalue=1.0)\n",
      "トピック9: KstestResult(statistic=0.42857142857142855, pvalue=0.5751748251748252)\n",
      "トピック10: KstestResult(statistic=0.7142857142857143, pvalue=0.05303030303030303)\n",
      "トピック11: KstestResult(statistic=0.5714285714285714, pvalue=0.21212121212121213)\n",
      "トピック12: KstestResult(statistic=0.5714285714285714, pvalue=0.21212121212121213)\n",
      "トピック13: KstestResult(statistic=0.5714285714285714, pvalue=0.21212121212121213)\n",
      "トピック14: KstestResult(statistic=0.5714285714285714, pvalue=0.21212121212121213)\n",
      "トピック15: KstestResult(statistic=0.5714285714285714, pvalue=0.21212121212121213)\n",
      "トピック16: KstestResult(statistic=0.5714285714285714, pvalue=0.21212121212121213)\n",
      "トピック17: KstestResult(statistic=0.7142857142857143, pvalue=0.05303030303030303)\n",
      "トピック18: KstestResult(statistic=0.5714285714285714, pvalue=0.21212121212121213)\n",
      "トピック19: KstestResult(statistic=0.5714285714285714, pvalue=0.21212121212121213)\n",
      "トピック20: KstestResult(statistic=0.5714285714285714, pvalue=0.21212121212121213)\n",
      "トピック21: KstestResult(statistic=0.5714285714285714, pvalue=0.21212121212121213)\n",
      "トピック22: KstestResult(statistic=0.7142857142857143, pvalue=0.05303030303030303)\n",
      "トピック23: KstestResult(statistic=0.5714285714285714, pvalue=0.21212121212121213)\n",
      "トピック24: KstestResult(statistic=0.5714285714285714, pvalue=0.21212121212121213)\n"
     ]
    }
   ],
   "source": [
    "\"\"\" KS 検定 \"\"\"\n",
    "\n",
    "# 子供の数\n",
    "for k in range(25):\n",
    "    num_chi = np.zeros(7)\n",
    "    for d in range(theta.shape[0]):\n",
    "        if np.argmax(theta[d]) == k:\n",
    "            num_chi[Con_ds[d][0]] += 1\n",
    "            \n",
    "    observed = num_chi\n",
    "    expected = (sum(observed) * psi_chi[k])\n",
    "\n",
    "    try:\n",
    "        result = stats.ks_2samp(observed, expected)\n",
    "    except:\n",
    "        continue\n",
    "    print(f'トピック{k}: {result}')"
   ]
  },
  {
   "cell_type": "code",
   "execution_count": 7,
   "metadata": {},
   "outputs": [
    {
     "name": "stdout",
     "output_type": "stream",
     "text": [
      "トピック0: KstestResult(statistic=0.25, pvalue=0.98010878010878)\n",
      "トピック1: KstestResult(statistic=0.25, pvalue=0.98010878010878)\n",
      "トピック2: KstestResult(statistic=0.375, pvalue=0.6601398601398599)\n",
      "トピック3: KstestResult(statistic=0.25, pvalue=0.98010878010878)\n",
      "トピック4: KstestResult(statistic=0.5, pvalue=0.2826728826728826)\n",
      "トピック5: KstestResult(statistic=0.375, pvalue=0.6601398601398599)\n",
      "トピック6: KstestResult(statistic=0.375, pvalue=0.6601398601398599)\n",
      "トピック7: KstestResult(statistic=0.375, pvalue=0.6601398601398599)\n",
      "トピック8: KstestResult(statistic=0.0, pvalue=1.0)\n",
      "トピック9: KstestResult(statistic=0.25, pvalue=0.98010878010878)\n",
      "トピック10: KstestResult(statistic=0.375, pvalue=0.6601398601398599)\n",
      "トピック11: KstestResult(statistic=0.375, pvalue=0.6601398601398599)\n",
      "トピック12: KstestResult(statistic=0.375, pvalue=0.6601398601398599)\n",
      "トピック13: KstestResult(statistic=0.25, pvalue=0.98010878010878)\n",
      "トピック14: KstestResult(statistic=0.25, pvalue=0.98010878010878)\n",
      "トピック15: KstestResult(statistic=0.375, pvalue=0.6601398601398599)\n",
      "トピック16: KstestResult(statistic=0.375, pvalue=0.6601398601398599)\n",
      "トピック17: KstestResult(statistic=0.5, pvalue=0.2826728826728826)\n",
      "トピック18: KstestResult(statistic=0.375, pvalue=0.6601398601398599)\n",
      "トピック19: KstestResult(statistic=0.5, pvalue=0.2826728826728826)\n",
      "トピック20: KstestResult(statistic=0.25, pvalue=0.98010878010878)\n",
      "トピック21: KstestResult(statistic=0.375, pvalue=0.6601398601398599)\n",
      "トピック22: KstestResult(statistic=0.375, pvalue=0.6601398601398599)\n",
      "トピック23: KstestResult(statistic=0.25, pvalue=0.98010878010878)\n",
      "トピック24: KstestResult(statistic=0.375, pvalue=0.6601398601398599)\n"
     ]
    }
   ],
   "source": [
    "# 世代\n",
    "for k in range(25):\n",
    "    num_gen = np.zeros(8)\n",
    "    for d in range(theta.shape[0]):\n",
    "        if np.argmax(theta[d]) == k:\n",
    "            num_gen[Con_ds[d][1]] += 1\n",
    "            \n",
    "    observed = num_gen\n",
    "    expected = (sum(observed) * psi_gen[k])\n",
    "\n",
    "    try:\n",
    "        result = stats.ks_2samp(observed, expected)\n",
    "    except:\n",
    "        continue\n",
    "    print(f'トピック{k}: {result}')"
   ]
  },
  {
   "cell_type": "code",
   "execution_count": 12,
   "metadata": {},
   "outputs": [
    {
     "name": "stdout",
     "output_type": "stream",
     "text": [
      "トピック0: KstestResult(statistic=0.6666666666666666, pvalue=2.0582601019119725e-10)\n",
      "トピック1: KstestResult(statistic=0.5416666666666666, pvalue=8.289541665347434e-07)\n",
      "トピック2: KstestResult(statistic=0.6458333333333334, pvalue=9.68592989135046e-10)\n",
      "トピック3: KstestResult(statistic=0.5833333333333334, pvalue=6.718891665597394e-08)\n",
      "トピック4: KstestResult(statistic=0.5208333333333334, pvalue=2.667069927111783e-06)\n",
      "トピック5: KstestResult(statistic=0.4583333333333333, pvalue=6.38004158410171e-05)\n",
      "トピック6: KstestResult(statistic=0.8125, pvalue=4.029618551248043e-16)\n",
      "トピック7: KstestResult(statistic=0.5416666666666666, pvalue=8.289541665347434e-07)\n",
      "トピック8: KstestResult(statistic=0.0, pvalue=1.0)\n",
      "トピック9: KstestResult(statistic=0.6458333333333334, pvalue=9.68592989135046e-10)\n",
      "トピック10: KstestResult(statistic=0.6666666666666666, pvalue=2.0582601019119725e-10)\n",
      "トピック11: KstestResult(statistic=0.6458333333333334, pvalue=9.68592989135046e-10)\n",
      "トピック12: KstestResult(statistic=0.6875, pvalue=4.065698966739699e-11)\n",
      "トピック13: KstestResult(statistic=0.6458333333333334, pvalue=9.68592989135046e-10)\n",
      "トピック14: KstestResult(statistic=0.625, pvalue=4.251047007870479e-09)\n",
      "トピック15: KstestResult(statistic=0.5833333333333334, pvalue=6.718891665597394e-08)\n",
      "トピック16: KstestResult(statistic=0.5833333333333334, pvalue=6.718891665597394e-08)\n",
      "トピック17: KstestResult(statistic=0.7291666666666666, pvalue=1.254476613304932e-12)\n",
      "トピック18: KstestResult(statistic=0.6041666666666666, pvalue=1.7451666663889335e-08)\n",
      "トピック19: KstestResult(statistic=0.625, pvalue=4.251047007870479e-09)\n",
      "トピック20: KstestResult(statistic=0.6458333333333334, pvalue=9.68592989135046e-10)\n",
      "トピック21: KstestResult(statistic=0.5416666666666666, pvalue=8.289541665347434e-07)\n",
      "トピック22: KstestResult(statistic=0.5625, pvalue=2.431598888501914e-07)\n",
      "トピック23: KstestResult(statistic=0.5833333333333334, pvalue=6.718891665597394e-08)\n",
      "トピック24: KstestResult(statistic=0.6875, pvalue=4.065698966739699e-11)\n"
     ]
    }
   ],
   "source": [
    "# 都道府県\n",
    "for k in range(25):\n",
    "    num_pre = np.zeros(48)\n",
    "    for d in range(theta.shape[0]):\n",
    "        if np.argmax(theta[d]) == k:\n",
    "            num_pre[Con_ds[d][2]] += 1\n",
    "            \n",
    "    observed = num_pre\n",
    "    expected = (sum(observed) * psi_pre[k])\n",
    "\n",
    "    try:\n",
    "        result = stats.ks_2samp(observed, expected)\n",
    "    except:\n",
    "        # 四捨五入で数が合わないとエラー\n",
    "        continue\n",
    "    print(f'トピック{k}: {result}')"
   ]
  },
  {
   "cell_type": "code",
   "execution_count": 10,
   "metadata": {},
   "outputs": [
    {
     "data": {
      "image/png": "[encoded data removed]",
      "text/plain": [
       "<Figure size 288x216 with 1 Axes>"
      ]
     },
     "metadata": {
      "needs_background": "light"
     },
     "output_type": "display_data"
    }
   ],
   "source": [
    "# 都道府県 - カテゴリ分布\n",
    "plt.figure(figsize=(4, 3))\n",
    "plt.bar(range(48), psi_pre[24], alpha=0.5)\n",
    "plt.bar(range(48), num_pre/sum(num_pre), alpha=0.5)\n",
    "plt.ylim(0.0, 1.05)\n",
    "plt.show()"
   ]
  }
 ],
 "metadata": {
  "kernelspec": {
   "display_name": "Python 3.9.2 64-bit",
   "language": "python",
   "name": "python3"
  },
  "language_info": {
   "codemirror_mode": {
    "name": "ipython",
    "version": 3
   },
   "file_extension": ".py",
   "mimetype": "text/x-python",
   "name": "python",
   "nbconvert_exporter": "python",
   "pygments_lexer": "ipython3",
   "version": "3.9.2"
  },
  "orig_nbformat": 4,
  "vscode": {
   "interpreter": {
    "hash": "aee8b7b246df8f9039afb4144a1f6fd8d2ca17a180786b69acc140d282b71a49"
   }
  }
 },
 "nbformat": 4,
 "nbformat_minor": 2
}
