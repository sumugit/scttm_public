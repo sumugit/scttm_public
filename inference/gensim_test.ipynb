{
 "cells": [
  {
   "cell_type": "code",
   "execution_count": 1,
   "metadata": {},
   "outputs": [],
   "source": [
    "from gensim.corpora.dictionary import Dictionary\n",
    "\n",
    "gensim_dictionary = Dictionary.load(\"../pickle_folder/gensim_dictionary/gensim_dictionary_30_3000.pkl\")"
   ]
  },
  {
   "cell_type": "code",
   "execution_count": 2,
   "metadata": {},
   "outputs": [],
   "source": [
    "gensim_dict = dict(gensim_dictionary)"
   ]
  },
  {
   "cell_type": "code",
   "execution_count": 5,
   "metadata": {},
   "outputs": [
    {
     "name": "stdout",
     "output_type": "stream",
     "text": [
      "妊娠\n",
      "授乳\n",
      "今日\n",
      "検査\n",
      "旦那\n",
      "ミルク\n",
      "抱っこ\n",
      "小児科\n",
      "泣き\n",
      "検診\n"
     ]
    }
   ],
   "source": [
    "words = [166,  37,  76, 170,  18,  75, 340, 317, 138, 185]\n",
    "for w in words:\n",
    "    print(gensim_dict[w])"
   ]
  },
  {
   "cell_type": "code",
   "execution_count": 2,
   "metadata": {},
   "outputs": [],
   "source": [
    "from sklearn import preprocessing\n",
    "from sklearn.model_selection import train_test_split\n",
    "import pandas as pd\n",
    "import numpy as np\n",
    "import matplotlib.pyplot as plt\n",
    "import pickle\n",
    "import sys\n",
    "import math"
   ]
  },
  {
   "cell_type": "code",
   "execution_count": 3,
   "metadata": {},
   "outputs": [],
   "source": [
    "# 単語集合\n",
    "N_tdv = pd.read_pickle('../pickle_folder/q30/questions_bow_arr.pkl')\n",
    "Sex_ds = pd.read_pickle('../pickle_folder/auxiliary/children_sex_count.pkl')\n",
    "Con_ds = pd.read_pickle('../pickle_folder/auxiliary/additional_info.pkl')\n",
    "Q_tds = pd.read_pickle('../pickle_folder/auxiliary/questions_meta_arr.pkl')\n",
    "Q_td = Q_tds[:,:,2].astype('uint32')\n",
    "Age_td = Q_tds[:,:,1]"
   ]
  },
  {
   "cell_type": "code",
   "execution_count": 8,
   "metadata": {},
   "outputs": [],
   "source": [
    "for t in range(Age_td.shape[0]):\n",
    "    Age_td[t] = np.log1p(Age_td[t] - np.min(Age_td[t]))"
   ]
  },
  {
   "cell_type": "code",
   "execution_count": 10,
   "metadata": {},
   "outputs": [
    {
     "data": {
      "image/png": "[encoded data removed]",
      "text/plain": [
       "<Figure size 432x288 with 1 Axes>"
      ]
     },
     "metadata": {
      "needs_background": "light"
     },
     "output_type": "display_data"
    }
   ],
   "source": [
    "plt.hist(Age_td[0], alpha = 0.3, bins = 50, label = 'time: 0')\n",
    "plt.hist(Age_td[1], alpha=0.3, bins=50, label='time: 1')\n",
    "plt.xlabel('age in month', fontsize=15)\n",
    "plt.ylabel('count', fontsize=15)\n",
    "plt.legend(fontsize=15)\n",
    "plt.show()"
   ]
  }
 ],
 "metadata": {
  "interpreter": {
   "hash": "8d4ba1d45328a915b5954e30841539bf0dc5c09e215b5467097e9868c91f41f8"
  },
  "kernelspec": {
   "display_name": "Python 3.7.3 64-bit",
   "language": "python",
   "name": "python3"
  },
  "language_info": {
   "codemirror_mode": {
    "name": "ipython",
    "version": 3
   },
   "file_extension": ".py",
   "mimetype": "text/x-python",
   "name": "python",
   "nbconvert_exporter": "python",
   "pygments_lexer": "ipython3",
   "version": "3.9.2"
  },
  "orig_nbformat": 4
 },
 "nbformat": 4,
 "nbformat_minor": 2
}
